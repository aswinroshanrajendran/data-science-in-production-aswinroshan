{
 "cells": [
  {
   "cell_type": "code",
   "execution_count": 2,
   "metadata": {},
   "outputs": [],
   "source": [
    "%load_ext autoreload\n",
    "%autoreload 2"
   ]
  },
  {
   "cell_type": "code",
   "execution_count": 4,
   "metadata": {},
   "outputs": [
    {
     "name": "stdout",
     "output_type": "stream",
     "text": [
      "c:\\Users\\aswin\\DSP\\data-science-in-production-aswinroshan\\notebooks\n",
      "c:\\Users\\aswin\\AppData\\Local\\Programs\\Python\\Python312\\python312.zip\n",
      "c:\\Users\\aswin\\AppData\\Local\\Programs\\Python\\Python312\\DLLs\n",
      "c:\\Users\\aswin\\AppData\\Local\\Programs\\Python\\Python312\\Lib\n",
      "c:\\Users\\aswin\\AppData\\Local\\Programs\\Python\\Python312\n",
      "\n",
      "C:\\Users\\aswin\\AppData\\Roaming\\Python\\Python312\\site-packages\n",
      "C:\\Users\\aswin\\AppData\\Roaming\\Python\\Python312\\site-packages\\win32\n",
      "C:\\Users\\aswin\\AppData\\Roaming\\Python\\Python312\\site-packages\\win32\\lib\n",
      "C:\\Users\\aswin\\AppData\\Roaming\\Python\\Python312\\site-packages\\Pythonwin\n",
      "c:\\Users\\aswin\\AppData\\Local\\Programs\\Python\\Python312\\Lib\\site-packages\n",
      "..\\\\\n"
     ]
    }
   ],
   "source": [
    "import sys\n",
    "sys.path.append(r'..\\\\')\n",
    "for path in sys.path:\n",
    "    print(path)"
   ]
  },
  {
   "cell_type": "code",
   "execution_count": 5,
   "metadata": {},
   "outputs": [
    {
     "name": "stdout",
     "output_type": "stream",
     "text": [
      "RMSLE: 0.25\n",
      "RMSLE: 0.25\n"
     ]
    }
   ],
   "source": [
    "\n",
    "import pandas as pd\n",
    "from house_prices.train import build_model\n",
    "\n",
    "training_data_df = pd.read_csv('../data/train.csv')\n",
    "model_performance_dict = build_model(training_data_df)\n",
    "\n"
   ]
  },
  {
   "cell_type": "markdown",
   "metadata": {},
   "source": [
    "Model Inference"
   ]
  },
  {
   "cell_type": "code",
   "execution_count": 7,
   "metadata": {},
   "outputs": [
    {
     "data": {
      "text/plain": [
       "array([11.4708856 , 12.01870844, 12.15995533, ..., 11.98791997,\n",
       "       11.83514927, 12.32239071])"
      ]
     },
     "execution_count": 7,
     "metadata": {},
     "output_type": "execute_result"
    }
   ],
   "source": [
    "import pandas as pd\n",
    "from house_prices.inference import make_predictions\n",
    "\n",
    "\n",
    "user_data_df = pd.read_csv('../data/test.csv')\n",
    "predictions = make_predictions(user_data_df)\n",
    "predictions\n"
   ]
  }
 ],
 "metadata": {
  "kernelspec": {
   "display_name": "Python 3",
   "language": "python",
   "name": "python3"
  },
  "language_info": {
   "codemirror_mode": {
    "name": "ipython",
    "version": 3
   },
   "file_extension": ".py",
   "mimetype": "text/x-python",
   "name": "python",
   "nbconvert_exporter": "python",
   "pygments_lexer": "ipython3",
   "version": "3.12.1"
  }
 },
 "nbformat": 4,
 "nbformat_minor": 2
}
